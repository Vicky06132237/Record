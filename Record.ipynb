{
 "cells": [
  {
   "cell_type": "code",
   "execution_count": 1,
   "id": "827890b6",
   "metadata": {},
   "outputs": [],
   "source": [
    "import speech_recognition\n",
    "r=speech_recognition.Recognizer()\n",
    "with speech_recognition.Microphone() as source:\n",
    "    audio=r.listen(source)"
   ]
  },
  {
   "cell_type": "code",
   "execution_count": 2,
   "id": "89075164",
   "metadata": {},
   "outputs": [
    {
     "data": {
      "text/plain": [
       "'中原大學'"
      ]
     },
     "execution_count": 2,
     "metadata": {},
     "output_type": "execute_result"
    }
   ],
   "source": [
    "r.recognize_google(audio,language='zh-TW')"
   ]
  },
  {
   "cell_type": "code",
   "execution_count": 5,
   "id": "9d271527",
   "metadata": {},
   "outputs": [],
   "source": [
    "import speech_recognition\n",
    "r=speech_recognition.Recognizer()\n",
    "with speech_recognition.Microphone() as source:\n",
    "    audio=r.listen(source)"
   ]
  },
  {
   "cell_type": "code",
   "execution_count": 6,
   "id": "ef160deb",
   "metadata": {},
   "outputs": [
    {
     "data": {
      "text/plain": [
       "'hello'"
      ]
     },
     "execution_count": 6,
     "metadata": {},
     "output_type": "execute_result"
    }
   ],
   "source": [
    "r.recognize_google(audio,language='en')"
   ]
  },
  {
   "cell_type": "code",
   "execution_count": 7,
   "id": "01c73a0d",
   "metadata": {},
   "outputs": [],
   "source": [
    "import speech_recognition\n",
    "r=speech_recognition.Recognizer()\n",
    "with speech_recognition.Microphone() as source:\n",
    "    audio=r.listen(source)"
   ]
  },
  {
   "cell_type": "code",
   "execution_count": 8,
   "id": "d38a881b",
   "metadata": {},
   "outputs": [],
   "source": [
    "result=r.recognize_google(audio,language='ja')"
   ]
  },
  {
   "cell_type": "code",
   "execution_count": 9,
   "id": "baefe89a",
   "metadata": {},
   "outputs": [
    {
     "name": "stdout",
     "output_type": "stream",
     "text": [
      "なるほど\n"
     ]
    }
   ],
   "source": [
    "print(result)"
   ]
  },
  {
   "cell_type": "code",
   "execution_count": 21,
   "id": "b38cfca6",
   "metadata": {},
   "outputs": [],
   "source": [
    "# 重複需kernel/restart"
   ]
  },
  {
   "cell_type": "code",
   "execution_count": 11,
   "id": "ef91941b",
   "metadata": {},
   "outputs": [],
   "source": [
    "from gtts import gTTS\n",
    "tts=gTTS(text='今天好睏',lang='zh-TW')\n",
    "tts.save('love.mp3')"
   ]
  },
  {
   "cell_type": "code",
   "execution_count": 12,
   "id": "d2aeca1b",
   "metadata": {},
   "outputs": [],
   "source": [
    "# gTTs (Google Text-to-Speech)建構式的Long語言代碼,zh-TW或zh-CN漢語,英文en,日文ja,法文fr,俄語ru,西班牙語 es"
   ]
  },
  {
   "cell_type": "code",
   "execution_count": 13,
   "id": "3da424ed",
   "metadata": {},
   "outputs": [
    {
     "name": "stdout",
     "output_type": "stream",
     "text": [
      "pygame 2.5.2 (SDL 2.28.3, Python 3.11.7)\n",
      "Hello from the pygame community. https://www.pygame.org/contribute.html\n"
     ]
    }
   ],
   "source": [
    "from pygame import mixer\n",
    "mixer.init()\n",
    "mixer.music.load('love.mp3')\n",
    "mixer.music.play()"
   ]
  },
  {
   "cell_type": "code",
   "execution_count": 14,
   "id": "9a31059a",
   "metadata": {},
   "outputs": [],
   "source": [
    "from gtts import gTTS\n",
    "tts=gTTS(text='私はアイスクリームを食べるのが好きです',lang='ja')\n",
    "tts.save('japanese_voice.mp3')"
   ]
  },
  {
   "cell_type": "code",
   "execution_count": 15,
   "id": "68d68333",
   "metadata": {},
   "outputs": [],
   "source": [
    "from pygame import mixer\n",
    "mixer.init()\n",
    "mixer.music.load('japanese_voice.mp3')\n",
    "mixer.music.play()"
   ]
  },
  {
   "cell_type": "code",
   "execution_count": 16,
   "id": "4d635a1a",
   "metadata": {},
   "outputs": [],
   "source": [
    "#temp file\n",
    "import tempfile\n",
    "def speak(sentence):\n",
    "    with tempfile.NamedTemporaryFile(delete=True)as fp:\n",
    "        tts=gTTS(text=sentence,lang='zh-CN')\n",
    "        tts.save(\"{}.mp3\".format(fp.name))\n",
    "        mixer.music.load('{}.mp3'.format(fp.name))\n",
    "        mixer.music.play()"
   ]
  },
  {
   "cell_type": "code",
   "execution_count": 17,
   "id": "5a49b73b",
   "metadata": {},
   "outputs": [],
   "source": [
    "speak('金融機構是一堂很累的課')"
   ]
  },
  {
   "cell_type": "code",
   "execution_count": 23,
   "id": "0bdcad0a",
   "metadata": {},
   "outputs": [],
   "source": [
    "import tempfile\n",
    "def speak(sentence):\n",
    "    with tempfile.NamedTemporaryFile(delete=True)as fp:\n",
    "        tts1=gTTS(text=sentence,lang='en')\n",
    "        tts1.save('{}.mp3'.format(fp.name))\n",
    "        mixer.music.load('{}.mp3'.format(fp.name))\n",
    "        mixer.music.play()"
   ]
  },
  {
   "cell_type": "code",
   "execution_count": 24,
   "id": "893070cc",
   "metadata": {},
   "outputs": [],
   "source": [
    "# 英文詩詞 \"我本可以忍受黑暗 如果我不曾見過太陽 然而陽光已使我的荒涼 成為更新的荒涼\""
   ]
  },
  {
   "cell_type": "code",
   "execution_count": 25,
   "id": "4690fcfb",
   "metadata": {},
   "outputs": [],
   "source": [
    "speak('Had I not seen the sun I could have borne the shade But Light a newer Wilderness My Wilderness has made')"
   ]
  },
  {
   "cell_type": "code",
   "execution_count": 26,
   "id": "1ab76751",
   "metadata": {},
   "outputs": [],
   "source": [
    "from pygame import mixer\n",
    "mixer.init()\n",
    "mixer.music.load('Måneskin - I WANNA BE YOUR SLAVE.mp3')\n",
    "mixer.music.play()"
   ]
  },
  {
   "cell_type": "code",
   "execution_count": null,
   "id": "4236b240",
   "metadata": {},
   "outputs": [],
   "source": []
  },
  {
   "cell_type": "code",
   "execution_count": null,
   "id": "c3a330ed",
   "metadata": {},
   "outputs": [],
   "source": []
  }
 ],
 "metadata": {
  "kernelspec": {
   "display_name": "Python 3 (ipykernel)",
   "language": "python",
   "name": "python3"
  },
  "language_info": {
   "codemirror_mode": {
    "name": "ipython",
    "version": 3
   },
   "file_extension": ".py",
   "mimetype": "text/x-python",
   "name": "python",
   "nbconvert_exporter": "python",
   "pygments_lexer": "ipython3",
   "version": "3.11.7"
  }
 },
 "nbformat": 4,
 "nbformat_minor": 5
}
